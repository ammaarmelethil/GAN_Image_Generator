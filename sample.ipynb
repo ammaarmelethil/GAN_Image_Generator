{
 "cells": [
  {
   "cell_type": "markdown",
   "source": [
    "# 1. Importing Dependencies and Data"
   ],
   "metadata": {
    "collapsed": false
   },
   "id": "cedc981988d31b74"
  },
  {
   "cell_type": "code",
   "execution_count": 3,
   "outputs": [],
   "source": [
    "import tensorflow as tf\n",
    "import matplotlib.pyplot as plt\n",
    "import ipywidgets as widgets"
   ],
   "metadata": {
    "collapsed": false,
    "ExecuteTime": {
     "end_time": "2024-02-04T19:46:46.192022Z",
     "start_time": "2024-02-04T19:46:46.128548Z"
    }
   },
   "id": "3222766e472c028d"
  },
  {
   "cell_type": "code",
   "execution_count": 4,
   "outputs": [],
   "source": [
    "# Set up for scaling later on\n",
    "gpus = tf.config.experimental.list_physical_devices('GPU')\n",
    "for gpu in gpus:\n",
    "    tf.config.experimental.set_memory_growth(gpu,True)"
   ],
   "metadata": {
    "collapsed": false,
    "ExecuteTime": {
     "end_time": "2024-02-04T19:51:30.207515Z",
     "start_time": "2024-02-04T19:51:30.202377Z"
    }
   },
   "id": "ba2cd8a55c7edd31"
  },
  {
   "cell_type": "code",
   "execution_count": 11,
   "outputs": [
    {
     "name": "stderr",
     "output_type": "stream",
     "text": [
      "2024-02-04 12:57:57.153557: W tensorflow/core/platform/cloud/google_auth_provider.cc:184] All attempts to get a Google authentication bearer token failed, returning an empty token. Retrieving token from files failed with \"NOT_FOUND: Could not locate the credentials file.\". Retrieving token from GCE failed with \"FAILED_PRECONDITION: Error executing an HTTP request: libcurl code 6 meaning 'Couldn't resolve host name', error details: Could not resolve host: metadata\".\n"
     ]
    },
    {
     "name": "stdout",
     "output_type": "stream",
     "text": [
      "\u001B[1mDownloading and preparing dataset 29.45 MiB (download: 29.45 MiB, generated: 36.42 MiB, total: 65.87 MiB) to /Users/ammaar/tensorflow_datasets/fashion_mnist/3.0.1...\u001B[0m\n"
     ]
    },
    {
     "data": {
      "text/plain": "Dl Completed...: 0 url [00:00, ? url/s]",
      "application/vnd.jupyter.widget-view+json": {
       "version_major": 2,
       "version_minor": 0,
       "model_id": "62f9510cfdfc47eeaf39ff4dbb887e07"
      }
     },
     "metadata": {},
     "output_type": "display_data"
    },
    {
     "data": {
      "text/plain": "Dl Size...: 0 MiB [00:00, ? MiB/s]",
      "application/vnd.jupyter.widget-view+json": {
       "version_major": 2,
       "version_minor": 0,
       "model_id": "8040bde6a0b54deb8ae6359f8df40c83"
      }
     },
     "metadata": {},
     "output_type": "display_data"
    },
    {
     "data": {
      "text/plain": "Extraction completed...: 0 file [00:00, ? file/s]",
      "application/vnd.jupyter.widget-view+json": {
       "version_major": 2,
       "version_minor": 0,
       "model_id": "445941a3a1de4e41a4281a6a93903925"
      }
     },
     "metadata": {},
     "output_type": "display_data"
    },
    {
     "data": {
      "text/plain": "Generating splits...:   0%|          | 0/2 [00:00<?, ? splits/s]",
      "application/vnd.jupyter.widget-view+json": {
       "version_major": 2,
       "version_minor": 0,
       "model_id": "d657787f641a451eadb8f2f443984131"
      }
     },
     "metadata": {},
     "output_type": "display_data"
    },
    {
     "data": {
      "text/plain": "Generating train examples...:   0%|          | 0/60000 [00:00<?, ? examples/s]",
      "application/vnd.jupyter.widget-view+json": {
       "version_major": 2,
       "version_minor": 0,
       "model_id": "ad03b5558b4342029c3cca1295b2384d"
      }
     },
     "metadata": {},
     "output_type": "display_data"
    },
    {
     "name": "stderr",
     "output_type": "stream",
     "text": [
      "2024-02-04 12:58:03.730447: I tensorflow/core/platform/cpu_feature_guard.cc:193] This TensorFlow binary is optimized with oneAPI Deep Neural Network Library (oneDNN) to use the following CPU instructions in performance-critical operations:  SSE4.1 SSE4.2\n",
      "To enable them in other operations, rebuild TensorFlow with the appropriate compiler flags.\n"
     ]
    },
    {
     "data": {
      "text/plain": "Shuffling /Users/ammaar/tensorflow_datasets/fashion_mnist/3.0.1.incomplete5RCVJ6/fashion_mnist-train.tfrecord*…",
      "application/vnd.jupyter.widget-view+json": {
       "version_major": 2,
       "version_minor": 0,
       "model_id": "74609fe0b1d64327a5bcb2e1ba7158b6"
      }
     },
     "metadata": {},
     "output_type": "display_data"
    },
    {
     "data": {
      "text/plain": "Generating test examples...:   0%|          | 0/10000 [00:00<?, ? examples/s]",
      "application/vnd.jupyter.widget-view+json": {
       "version_major": 2,
       "version_minor": 0,
       "model_id": "3035a41225bd4831b1fa932f598b3c22"
      }
     },
     "metadata": {},
     "output_type": "display_data"
    },
    {
     "data": {
      "text/plain": "Shuffling /Users/ammaar/tensorflow_datasets/fashion_mnist/3.0.1.incomplete5RCVJ6/fashion_mnist-test.tfrecord*.…",
      "application/vnd.jupyter.widget-view+json": {
       "version_major": 2,
       "version_minor": 0,
       "model_id": "8993e1c8da6846aa9420b6f6e2e1534e"
      }
     },
     "metadata": {},
     "output_type": "display_data"
    },
    {
     "name": "stdout",
     "output_type": "stream",
     "text": [
      "\u001B[1mDataset fashion_mnist downloaded and prepared to /Users/ammaar/tensorflow_datasets/fashion_mnist/3.0.1. Subsequent calls will reuse this data.\u001B[0m\n"
     ]
    }
   ],
   "source": [
    "import tensorflow_datasets as tfds\n",
    "ds = tfds.load('fashion_mnist', split='train')"
   ],
   "metadata": {
    "collapsed": false,
    "ExecuteTime": {
     "end_time": "2024-02-04T19:58:14.028410Z",
     "start_time": "2024-02-04T19:57:56.164835Z"
    }
   },
   "id": "2568d1b07d5b1c96"
  },
  {
   "cell_type": "markdown",
   "source": [
    "# 2. Visualize Data and Building Data Pipeline"
   ],
   "metadata": {
    "collapsed": false
   },
   "id": "e4d4b65fe3a1ef74"
  },
  {
   "cell_type": "code",
   "execution_count": 12,
   "outputs": [],
   "source": [
    "# Some data transformation\n",
    "import numpy as np"
   ],
   "metadata": {
    "collapsed": false,
    "ExecuteTime": {
     "end_time": "2024-02-04T20:03:54.374937Z",
     "start_time": "2024-02-04T20:03:54.364820Z"
    }
   },
   "id": "b7900671ae8dfc86"
  },
  {
   "cell_type": "code",
   "execution_count": 13,
   "outputs": [],
   "source": [
    "# Setup connection aka iterator\n",
    "dataiterator = ds.as_numpy_iterator()"
   ],
   "metadata": {
    "collapsed": false,
    "ExecuteTime": {
     "end_time": "2024-02-04T20:03:56.014044Z",
     "start_time": "2024-02-04T20:03:55.843403Z"
    }
   },
   "id": "2bbd014e293aa08"
  },
  {
   "cell_type": "code",
   "execution_count": 14,
   "outputs": [
    {
     "data": {
      "text/plain": "<Figure size 2000x2000 with 4 Axes>",
      "image/png": "[encoded data removed]"
     },
     "metadata": {},
     "output_type": "display_data"
    }
   ],
   "source": [
    "# Creating some subplots for 4 sample images\n",
    "fig, ax = plt.subplots(ncols=4, figsize=(20,20))\n",
    "for idx in range(4):\n",
    "    batch = dataiterator.next() # Grab an image and label\n",
    "    ax[idx].imshow(np.squeeze(batch['image'])) # Converting shape to 28x28 (squeeze)\n",
    "    ax[idx].title.set_text(batch['label'])"
   ],
   "metadata": {
    "collapsed": false,
    "ExecuteTime": {
     "end_time": "2024-02-04T20:07:09.471419Z",
     "start_time": "2024-02-04T20:07:08.385884Z"
    }
   },
   "id": "e84bf99c3b90e707"
  },
  {
   "cell_type": "code",
   "execution_count": 15,
   "outputs": [],
   "source": [
    "# Scale and return images only (preprocessing)\n",
    "def scale_images(data):\n",
    "    image = data['image']\n",
    "    return image / 255"
   ],
   "metadata": {
    "collapsed": false,
    "ExecuteTime": {
     "end_time": "2024-02-04T20:24:34.214289Z",
     "start_time": "2024-02-04T20:24:34.207958Z"
    }
   },
   "id": "802e85a33bbad46b"
  },
  {
   "cell_type": "code",
   "execution_count": 16,
   "outputs": [],
   "source": [
    "# Reloading the dataset\n",
    "ds = tfds.load('fashion_mnist', split='train')\n",
    "ds = ds.map(scale_images) # Running the dataset through the scale_images preprocessing step\n",
    "ds = ds.cache() # Cache the dataset for that batch\n",
    "ds = ds.shuffle(60000) # Shuffle it up\n",
    "ds = ds.batch(128) # Batch into 128 images per sample\n",
    "ds = ds.prefetch(64) # Reduces the likelihood of bottlenecking"
   ],
   "metadata": {
    "collapsed": false,
    "ExecuteTime": {
     "end_time": "2024-02-04T20:28:58.383099Z",
     "start_time": "2024-02-04T20:28:58.220287Z"
    }
   },
   "id": "728a695263e5a91f"
  },
  {
   "cell_type": "code",
   "execution_count": 17,
   "outputs": [
    {
     "data": {
      "text/plain": "(128, 28, 28, 1)"
     },
     "execution_count": 17,
     "metadata": {},
     "output_type": "execute_result"
    }
   ],
   "source": [
    "ds.as_numpy_iterator().next().shape"
   ],
   "metadata": {
    "collapsed": false,
    "ExecuteTime": {
     "end_time": "2024-02-04T20:29:23.463820Z",
     "start_time": "2024-02-04T20:29:22.044567Z"
    }
   },
   "id": "fb1fed628ecaa5d6"
  },
  {
   "cell_type": "markdown",
   "source": [
    "# 3. Building Neural Network\n",
    "- 3.1 Importing modelling components\n",
    "- 3.2 Building the generator | Think of this as the 'artist'\n",
    "- 3.3 Building the discriminator | Think of this as the 'art critic'"
   ],
   "metadata": {
    "collapsed": false
   },
   "id": "5e2d91c09c17da29"
  },
  {
   "cell_type": "markdown",
   "source": [
    "Importing modelling components"
   ],
   "metadata": {
    "collapsed": false
   },
   "id": "f020790bdcf410f5"
  },
  {
   "cell_type": "code",
   "execution_count": null,
   "outputs": [],
   "source": [],
   "metadata": {
    "collapsed": false
   },
   "id": "b85b3f743de0a0a9"
  }
 ],
 "metadata": {
  "kernelspec": {
   "display_name": "Python 3",
   "language": "python",
   "name": "python3"
  },
  "language_info": {
   "codemirror_mode": {
    "name": "ipython",
    "version": 2
   },
   "file_extension": ".py",
   "mimetype": "text/x-python",
   "name": "python",
   "nbconvert_exporter": "python",
   "pygments_lexer": "ipython2",
   "version": "2.7.6"
  }
 },
 "nbformat": 4,
 "nbformat_minor": 5
}
