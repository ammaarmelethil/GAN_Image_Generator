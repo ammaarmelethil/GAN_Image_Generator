{
 "cells": [
  {
   "cell_type": "markdown",
   "source": [
    "# 1. Importing Dependencies and Data"
   ],
   "metadata": {
    "collapsed": false
   },
   "id": "cedc981988d31b74"
  },
  {
   "cell_type": "code",
   "execution_count": 3,
   "outputs": [],
   "source": [
    "import tensorflow as tf\n",
    "import matplotlib.pyplot as plt\n",
    "import ipywidgets as widgets"
   ],
   "metadata": {
    "collapsed": false,
    "ExecuteTime": {
     "end_time": "2024-02-04T19:46:46.192022Z",
     "start_time": "2024-02-04T19:46:46.128548Z"
    }
   },
   "id": "3222766e472c028d"
  },
  {
   "cell_type": "code",
   "execution_count": 4,
   "outputs": [],
   "source": [
    "# Set up for scaling later on\n",
    "gpus = tf.config.experimental.list_physical_devices('GPU')\n",
    "for gpu in gpus:\n",
    "    tf.config.experimental.set_memory_growth(gpu,True)"
   ],
   "metadata": {
    "collapsed": false,
    "ExecuteTime": {
     "end_time": "2024-02-04T19:51:30.207515Z",
     "start_time": "2024-02-04T19:51:30.202377Z"
    }
   },
   "id": "ba2cd8a55c7edd31"
  },
  {
   "cell_type": "code",
   "execution_count": 11,
   "outputs": [
    {
     "name": "stderr",
     "output_type": "stream",
     "text": [
      "2024-02-04 12:57:57.153557: W tensorflow/core/platform/cloud/google_auth_provider.cc:184] All attempts to get a Google authentication bearer token failed, returning an empty token. Retrieving token from files failed with \"NOT_FOUND: Could not locate the credentials file.\". Retrieving token from GCE failed with \"FAILED_PRECONDITION: Error executing an HTTP request: libcurl code 6 meaning 'Couldn't resolve host name', error details: Could not resolve host: metadata\".\n"
     ]
    },
    {
     "name": "stdout",
     "output_type": "stream",
     "text": [
      "\u001B[1mDownloading and preparing dataset 29.45 MiB (download: 29.45 MiB, generated: 36.42 MiB, total: 65.87 MiB) to /Users/ammaar/tensorflow_datasets/fashion_mnist/3.0.1...\u001B[0m\n"
     ]
    },
    {
     "data": {
      "text/plain": "Dl Completed...: 0 url [00:00, ? url/s]",
      "application/vnd.jupyter.widget-view+json": {
       "version_major": 2,
       "version_minor": 0,
       "model_id": "62f9510cfdfc47eeaf39ff4dbb887e07"
      }
     },
     "metadata": {},
     "output_type": "display_data"
    },
    {
     "data": {
      "text/plain": "Dl Size...: 0 MiB [00:00, ? MiB/s]",
      "application/vnd.jupyter.widget-view+json": {
       "version_major": 2,
       "version_minor": 0,
       "model_id": "8040bde6a0b54deb8ae6359f8df40c83"
      }
     },
     "metadata": {},
     "output_type": "display_data"
    },
    {
     "data": {
      "text/plain": "Extraction completed...: 0 file [00:00, ? file/s]",
      "application/vnd.jupyter.widget-view+json": {
       "version_major": 2,
       "version_minor": 0,
       "model_id": "445941a3a1de4e41a4281a6a93903925"
      }
     },
     "metadata": {},
     "output_type": "display_data"
    },
    {
     "data": {
      "text/plain": "Generating splits...:   0%|          | 0/2 [00:00<?, ? splits/s]",
      "application/vnd.jupyter.widget-view+json": {
       "version_major": 2,
       "version_minor": 0,
       "model_id": "d657787f641a451eadb8f2f443984131"
      }
     },
     "metadata": {},
     "output_type": "display_data"
    },
    {
     "data": {
      "text/plain": "Generating train examples...:   0%|          | 0/60000 [00:00<?, ? examples/s]",
      "application/vnd.jupyter.widget-view+json": {
       "version_major": 2,
       "version_minor": 0,
       "model_id": "ad03b5558b4342029c3cca1295b2384d"
      }
     },
     "metadata": {},
     "output_type": "display_data"
    },
    {
     "name": "stderr",
     "output_type": "stream",
     "text": [
      "2024-02-04 12:58:03.730447: I tensorflow/core/platform/cpu_feature_guard.cc:193] This TensorFlow binary is optimized with oneAPI Deep Neural Network Library (oneDNN) to use the following CPU instructions in performance-critical operations:  SSE4.1 SSE4.2\n",
      "To enable them in other operations, rebuild TensorFlow with the appropriate compiler flags.\n"
     ]
    },
    {
     "data": {
      "text/plain": "Shuffling /Users/ammaar/tensorflow_datasets/fashion_mnist/3.0.1.incomplete5RCVJ6/fashion_mnist-train.tfrecord*…",
      "application/vnd.jupyter.widget-view+json": {
       "version_major": 2,
       "version_minor": 0,
       "model_id": "74609fe0b1d64327a5bcb2e1ba7158b6"
      }
     },
     "metadata": {},
     "output_type": "display_data"
    },
    {
     "data": {
      "text/plain": "Generating test examples...:   0%|          | 0/10000 [00:00<?, ? examples/s]",
      "application/vnd.jupyter.widget-view+json": {
       "version_major": 2,
       "version_minor": 0,
       "model_id": "3035a41225bd4831b1fa932f598b3c22"
      }
     },
     "metadata": {},
     "output_type": "display_data"
    },
    {
     "data": {
      "text/plain": "Shuffling /Users/ammaar/tensorflow_datasets/fashion_mnist/3.0.1.incomplete5RCVJ6/fashion_mnist-test.tfrecord*.…",
      "application/vnd.jupyter.widget-view+json": {
       "version_major": 2,
       "version_minor": 0,
       "model_id": "8993e1c8da6846aa9420b6f6e2e1534e"
      }
     },
     "metadata": {},
     "output_type": "display_data"
    },
    {
     "name": "stdout",
     "output_type": "stream",
     "text": [
      "\u001B[1mDataset fashion_mnist downloaded and prepared to /Users/ammaar/tensorflow_datasets/fashion_mnist/3.0.1. Subsequent calls will reuse this data.\u001B[0m\n"
     ]
    }
   ],
   "source": [
    "import tensorflow_datasets as tfds\n",
    "ds = tfds.load('fashion_mnist', split='train')"
   ],
   "metadata": {
    "collapsed": false,
    "ExecuteTime": {
     "end_time": "2024-02-04T19:58:14.028410Z",
     "start_time": "2024-02-04T19:57:56.164835Z"
    }
   },
   "id": "2568d1b07d5b1c96"
  },
  {
   "cell_type": "markdown",
   "source": [
    "# 2. Visualize Data and Building Data Pipeline"
   ],
   "metadata": {
    "collapsed": false
   },
   "id": "e4d4b65fe3a1ef74"
  },
  {
   "cell_type": "code",
   "execution_count": 12,
   "outputs": [],
   "source": [
    "# Some data transformation\n",
    "import numpy as np"
   ],
   "metadata": {
    "collapsed": false,
    "ExecuteTime": {
     "end_time": "2024-02-04T20:03:54.374937Z",
     "start_time": "2024-02-04T20:03:54.364820Z"
    }
   },
   "id": "b7900671ae8dfc86"
  },
  {
   "cell_type": "code",
   "execution_count": 13,
   "outputs": [],
   "source": [
    "# Setup connection aka iterator\n",
    "dataiterator = ds.as_numpy_iterator()"
   ],
   "metadata": {
    "collapsed": false,
    "ExecuteTime": {
     "end_time": "2024-02-04T20:03:56.014044Z",
     "start_time": "2024-02-04T20:03:55.843403Z"
    }
   },
   "id": "2bbd014e293aa08"
  },
  {
   "cell_type": "code",
   "execution_count": 14,
   "outputs": [
    {
     "data": {
      "text/plain": "<Figure size 2000x2000 with 4 Axes>",
      "image/png": "[encoded data removed]"
     },
     "metadata": {},
     "output_type": "display_data"
    }
   ],
   "source": [
    "# Creating some subplots for 4 sample images\n",
    "fig, ax = plt.subplots(ncols=4, figsize=(20,20))\n",
    "for idx in range(4):\n",
    "    batch = dataiterator.next() # Grab an image and label\n",
    "    ax[idx].imshow(np.squeeze(batch['image'])) # Converting shape to 28x28 (squeeze)\n",
    "    ax[idx].title.set_text(batch['label'])"
   ],
   "metadata": {
    "collapsed": false,
    "ExecuteTime": {
     "end_time": "2024-02-04T20:07:09.471419Z",
     "start_time": "2024-02-04T20:07:08.385884Z"
    }
   },
   "id": "e84bf99c3b90e707"
  },
  {
   "cell_type": "code",
   "execution_count": 15,
   "outputs": [],
   "source": [
    "# Scale and return images only (preprocessing)\n",
    "def scale_images(data):\n",
    "    image = data['image']\n",
    "    return image / 255"
   ],
   "metadata": {
    "collapsed": false,
    "ExecuteTime": {
     "end_time": "2024-02-04T20:24:34.214289Z",
     "start_time": "2024-02-04T20:24:34.207958Z"
    }
   },
   "id": "802e85a33bbad46b"
  },
  {
   "cell_type": "code",
   "execution_count": 16,
   "outputs": [],
   "source": [
    "# Reloading the dataset\n",
    "ds = tfds.load('fashion_mnist', split='train')\n",
    "ds = ds.map(scale_images) # Running the dataset through the scale_images preprocessing step\n",
    "ds = ds.cache() # Cache the dataset for that batch\n",
    "ds = ds.shuffle(60000) # Shuffle it up\n",
    "ds = ds.batch(128) # Batch into 128 images per sample\n",
    "ds = ds.prefetch(64) # Reduces the likelihood of bottlenecking"
   ],
   "metadata": {
    "collapsed": false,
    "ExecuteTime": {
     "end_time": "2024-02-04T20:28:58.383099Z",
     "start_time": "2024-02-04T20:28:58.220287Z"
    }
   },
   "id": "728a695263e5a91f"
  },
  {
   "cell_type": "code",
   "execution_count": 17,
   "outputs": [
    {
     "data": {
      "text/plain": "(128, 28, 28, 1)"
     },
     "execution_count": 17,
     "metadata": {},
     "output_type": "execute_result"
    }
   ],
   "source": [
    "ds.as_numpy_iterator().next().shape"
   ],
   "metadata": {
    "collapsed": false,
    "ExecuteTime": {
     "end_time": "2024-02-04T20:29:23.463820Z",
     "start_time": "2024-02-04T20:29:22.044567Z"
    }
   },
   "id": "fb1fed628ecaa5d6"
  },
  {
   "cell_type": "markdown",
   "source": [
    "# 3. Building Neural Network\n",
    "- 3.1 Importing modelling components\n",
    "- 3.2 Building the generator | Think of this as the 'artist'\n",
    "- 3.3 Building the discriminator | Think of this as the 'art critic'"
   ],
   "metadata": {
    "collapsed": false
   },
   "id": "5e2d91c09c17da29"
  },
  {
   "cell_type": "markdown",
   "source": [
    "Importing modelling components"
   ],
   "metadata": {
    "collapsed": false
   },
   "id": "f020790bdcf410f5"
  },
  {
   "cell_type": "code",
   "execution_count": 18,
   "outputs": [],
   "source": [
    "# Bring in the sequential API for the generator and discriminator\n",
    "from tensorflow.keras.models import Sequential\n",
    "# Bring in the layers for the neural network\n",
    "from tensorflow.keras.layers import Conv2D, Dense, Flatten, Reshape, LeakyReLU, Dropout, UpSampling2D"
   ],
   "metadata": {
    "collapsed": false,
    "ExecuteTime": {
     "end_time": "2024-02-04T20:43:06.643411Z",
     "start_time": "2024-02-04T20:43:06.633359Z"
    }
   },
   "id": "b85b3f743de0a0a9"
  },
  {
   "cell_type": "markdown",
   "source": [
    "Building the generator"
   ],
   "metadata": {
    "collapsed": false
   },
   "id": "1a28ea58317909d9"
  },
  {
   "cell_type": "code",
   "execution_count": 39,
   "outputs": [],
   "source": [
    "def build_generator():\n",
    "    model = Sequential()\n",
    "    \n",
    "    # Takes in random values and reshapes it to 7x7x128\n",
    "    # Beginnings of a generated images\n",
    "    model.add(Dense(7*7*128, input_dim=128)) # Generate based on 128 random values and shape image to 7*7*128\n",
    "    model.add(LeakyReLU(0.2)) \n",
    "    model.add(Reshape((7,7,128)))\n",
    "    \n",
    "    # Upsampling block 1 - 14x14x128\n",
    "    model.add(UpSampling2D())\n",
    "    model.add(Conv2D(128, 5, padding='same'))\n",
    "    model.add(LeakyReLU(0.2))\n",
    "    \n",
    "    # Upsampling block 2 - 28x28x128\n",
    "    model.add(UpSampling2D())\n",
    "    model.add(Conv2D(128, 5, padding='same'))\n",
    "    model.add(LeakyReLU(0.2))\n",
    "    \n",
    "    # Convolutional block 1\n",
    "    model.add(Conv2D(128, 4, padding='same'))\n",
    "    model.add(LeakyReLU(0.2))\n",
    "    \n",
    "    # Convolutional block 2\n",
    "    model.add(Conv2D(128, 4, padding='same'))\n",
    "    model.add(LeakyReLU(0.2))\n",
    "    \n",
    "    # Convert layer to get to one channel\n",
    "    model.add(Conv2D(1,4, padding='same', activation='sigmoid')) # Sigmoid(0,1)\n",
    "    \n",
    "    return model"
   ],
   "metadata": {
    "collapsed": false,
    "ExecuteTime": {
     "end_time": "2024-02-04T21:00:41.858563Z",
     "start_time": "2024-02-04T21:00:41.848837Z"
    }
   },
   "id": "f0ab2fc77008d5e4"
  },
  {
   "cell_type": "code",
   "execution_count": 40,
   "outputs": [],
   "source": [
    "test_model = build_generator()"
   ],
   "metadata": {
    "collapsed": false,
    "ExecuteTime": {
     "end_time": "2024-02-04T21:00:42.852192Z",
     "start_time": "2024-02-04T21:00:42.759823Z"
    }
   },
   "id": "6e7cfecfeecc8144"
  },
  {
   "cell_type": "code",
   "execution_count": 41,
   "outputs": [
    {
     "name": "stdout",
     "output_type": "stream",
     "text": [
      "Model: \"sequential_7\"\n",
      "_________________________________________________________________\n",
      " Layer (type)                Output Shape              Param #   \n",
      "=================================================================\n",
      " dense_7 (Dense)             (None, 6272)              809088    \n",
      "                                                                 \n",
      " leaky_re_lu_18 (LeakyReLU)  (None, 6272)              0         \n",
      "                                                                 \n",
      " reshape_6 (Reshape)         (None, 7, 7, 128)         0         \n",
      "                                                                 \n",
      " up_sampling2d_9 (UpSampling  (None, 14, 14, 128)      0         \n",
      " 2D)                                                             \n",
      "                                                                 \n",
      " conv2d_13 (Conv2D)          (None, 14, 14, 128)       409728    \n",
      "                                                                 \n",
      " leaky_re_lu_19 (LeakyReLU)  (None, 14, 14, 128)       0         \n",
      "                                                                 \n",
      " up_sampling2d_10 (UpSamplin  (None, 28, 28, 128)      0         \n",
      " g2D)                                                            \n",
      "                                                                 \n",
      " conv2d_14 (Conv2D)          (None, 28, 28, 128)       409728    \n",
      "                                                                 \n",
      " leaky_re_lu_20 (LeakyReLU)  (None, 28, 28, 128)       0         \n",
      "                                                                 \n",
      " conv2d_15 (Conv2D)          (None, 28, 28, 128)       262272    \n",
      "                                                                 \n",
      " leaky_re_lu_21 (LeakyReLU)  (None, 28, 28, 128)       0         \n",
      "                                                                 \n",
      " conv2d_16 (Conv2D)          (None, 28, 28, 128)       262272    \n",
      "                                                                 \n",
      " leaky_re_lu_22 (LeakyReLU)  (None, 28, 28, 128)       0         \n",
      "                                                                 \n",
      " conv2d_17 (Conv2D)          (None, 28, 28, 1)         2049      \n",
      "                                                                 \n",
      "=================================================================\n",
      "Total params: 2,155,137\n",
      "Trainable params: 2,155,137\n",
      "Non-trainable params: 0\n",
      "_________________________________________________________________\n"
     ]
    }
   ],
   "source": [
    "test_model.summary()"
   ],
   "metadata": {
    "collapsed": false,
    "ExecuteTime": {
     "end_time": "2024-02-04T21:00:43.663483Z",
     "start_time": "2024-02-04T21:00:43.636092Z"
    }
   },
   "id": "b3a1bba2f9a78751"
  },
  {
   "cell_type": "code",
   "execution_count": 60,
   "outputs": [
    {
     "name": "stdout",
     "output_type": "stream",
     "text": [
      "1/1 [==============================] - 0s 112ms/step\n"
     ]
    },
    {
     "data": {
      "text/plain": "array([[[[0.50258666],\n         [0.5091313 ],\n         [0.5040207 ],\n         ...,\n         [0.50287646],\n         [0.5054787 ],\n         [0.49780166]],\n\n        [[0.49816367],\n         [0.5011295 ],\n         [0.50087684],\n         ...,\n         [0.50238067],\n         [0.49433962],\n         [0.4967994 ]],\n\n        [[0.50369614],\n         [0.50390023],\n         [0.5068977 ],\n         ...,\n         [0.501125  ],\n         [0.49997452],\n         [0.4982915 ]],\n\n        ...,\n\n        [[0.49611092],\n         [0.49946237],\n         [0.49422637],\n         ...,\n         [0.50393397],\n         [0.4981518 ],\n         [0.50078285]],\n\n        [[0.4922454 ],\n         [0.49531922],\n         [0.49552375],\n         ...,\n         [0.49876004],\n         [0.498305  ],\n         [0.5002478 ]],\n\n        [[0.4952063 ],\n         [0.49924418],\n         [0.50093025],\n         ...,\n         [0.49701685],\n         [0.4983645 ],\n         [0.50146925]]],\n\n\n       [[[0.50225514],\n         [0.5084203 ],\n         [0.50741136],\n         ...,\n         [0.50844586],\n         [0.5052696 ],\n         [0.5017552 ]],\n\n        [[0.5017037 ],\n         [0.50504154],\n         [0.50270027],\n         ...,\n         [0.5039053 ],\n         [0.50142175],\n         [0.5008646 ]],\n\n        [[0.49947646],\n         [0.502818  ],\n         [0.49928078],\n         ...,\n         [0.5082763 ],\n         [0.5071939 ],\n         [0.5050768 ]],\n\n        ...,\n\n        [[0.4942516 ],\n         [0.49619418],\n         [0.49632022],\n         ...,\n         [0.5059314 ],\n         [0.5021974 ],\n         [0.498429  ]],\n\n        [[0.49252376],\n         [0.49339905],\n         [0.49580696],\n         ...,\n         [0.4992636 ],\n         [0.49738702],\n         [0.4998876 ]],\n\n        [[0.4983539 ],\n         [0.49927485],\n         [0.50318986],\n         ...,\n         [0.49880844],\n         [0.49899393],\n         [0.49914414]]],\n\n\n       [[[0.4992935 ],\n         [0.5133309 ],\n         [0.50181735],\n         ...,\n         [0.5066645 ],\n         [0.50449365],\n         [0.5020348 ]],\n\n        [[0.49617803],\n         [0.5043296 ],\n         [0.49792576],\n         ...,\n         [0.50798965],\n         [0.50271344],\n         [0.5031854 ]],\n\n        [[0.49528623],\n         [0.5032914 ],\n         [0.50194347],\n         ...,\n         [0.5156238 ],\n         [0.50541914],\n         [0.50158113]],\n\n        ...,\n\n        [[0.49449906],\n         [0.49679545],\n         [0.5000326 ],\n         ...,\n         [0.49888957],\n         [0.50237   ],\n         [0.50327504]],\n\n        [[0.49387795],\n         [0.49560875],\n         [0.49355847],\n         ...,\n         [0.4990589 ],\n         [0.4988069 ],\n         [0.4994954 ]],\n\n        [[0.49642023],\n         [0.49780333],\n         [0.49881688],\n         ...,\n         [0.50053734],\n         [0.5011521 ],\n         [0.5000058 ]]],\n\n\n       [[[0.49258804],\n         [0.5030736 ],\n         [0.51070046],\n         ...,\n         [0.49364877],\n         [0.50018275],\n         [0.49799588]],\n\n        [[0.49445012],\n         [0.49980947],\n         [0.5016392 ],\n         ...,\n         [0.49726647],\n         [0.49874112],\n         [0.5008417 ]],\n\n        [[0.4959164 ],\n         [0.49356487],\n         [0.49466398],\n         ...,\n         [0.5003781 ],\n         [0.49570578],\n         [0.49727085]],\n\n        ...,\n\n        [[0.4952167 ],\n         [0.4988451 ],\n         [0.49842185],\n         ...,\n         [0.50278884],\n         [0.50338155],\n         [0.5011985 ]],\n\n        [[0.49043754],\n         [0.4965154 ],\n         [0.49456963],\n         ...,\n         [0.498582  ],\n         [0.49831703],\n         [0.5002397 ]],\n\n        [[0.5009588 ],\n         [0.4991659 ],\n         [0.49783316],\n         ...,\n         [0.49728286],\n         [0.49773654],\n         [0.49950257]]]], dtype=float32)"
     },
     "execution_count": 60,
     "metadata": {},
     "output_type": "execute_result"
    }
   ],
   "source": [
    "# Testing out the generator\n",
    "generator = build_generator()\n",
    "img = generator.predict(np.random.randn(4, 128, 1)) # Generating 4 random images using a normal distribution\n",
    "img"
   ],
   "metadata": {
    "collapsed": false,
    "ExecuteTime": {
     "end_time": "2024-02-04T22:00:34.271484Z",
     "start_time": "2024-02-04T22:00:34.063842Z"
    }
   },
   "id": "6d1beeea9d2c850f"
  },
  {
   "cell_type": "code",
   "execution_count": 43,
   "outputs": [
    {
     "data": {
      "text/plain": "(4, 28, 28, 1)"
     },
     "execution_count": 43,
     "metadata": {},
     "output_type": "execute_result"
    }
   ],
   "source": [
    "img.shape"
   ],
   "metadata": {
    "collapsed": false,
    "ExecuteTime": {
     "end_time": "2024-02-04T21:06:50.494772Z",
     "start_time": "2024-02-04T21:06:50.488389Z"
    }
   },
   "id": "713d1d76aa7af899"
  },
  {
   "cell_type": "code",
   "execution_count": 44,
   "outputs": [
    {
     "data": {
      "text/plain": "<Figure size 2000x2000 with 4 Axes>",
      "image/png": "[encoded data removed]"
     },
     "metadata": {},
     "output_type": "display_data"
    }
   ],
   "source": [
    "# Creating some subplots for 4 generated images\n",
    "fig, ax = plt.subplots(ncols=4, figsize=(20,20))\n",
    "# Loop 4 times and get images\n",
    "for idx, img in enumerate(img):\n",
    "    # Plotting the image using a specific subplot\n",
    "    ax[idx].imshow(np.squeeze(img))\n",
    "    # Appending the image label as plot title\n",
    "    ax[idx].title.set_text(idx)"
   ],
   "metadata": {
    "collapsed": false,
    "ExecuteTime": {
     "end_time": "2024-02-04T21:09:02.946332Z",
     "start_time": "2024-02-04T21:09:02.442919Z"
    }
   },
   "id": "983374cba17ec0d5"
  },
  {
   "cell_type": "markdown",
   "source": [
    "Build Discriminator - Classifiy generated image in to 1: Fake image, 0: Real image"
   ],
   "metadata": {
    "collapsed": false
   },
   "id": "1931df30b3f80ad8"
  },
  {
   "cell_type": "code",
   "execution_count": 48,
   "outputs": [],
   "source": [
    "def build_discriminator():\n",
    "    model = Sequential()\n",
    "    \n",
    "    # First Conv Block\n",
    "    model.add(Conv2D(32, 5, input_shape=(28, 28, 1)))\n",
    "    model.add(LeakyReLU(0.2))\n",
    "    model.add(Dropout(0.4))\n",
    "    \n",
    "    # Second Conv Block\n",
    "    model.add(Conv2D(64, 5))\n",
    "    model.add(LeakyReLU(0.2))\n",
    "    model.add(Dropout(0.4))\n",
    "\n",
    "    # Third Conv Block\n",
    "    model.add(Conv2D(128, 5))\n",
    "    model.add(LeakyReLU(0.2))\n",
    "    model.add(Dropout(0.4))\n",
    "\n",
    "    # Fourth Conv Block\n",
    "    model.add(Conv2D(256, 5))\n",
    "    model.add(LeakyReLU(0.2))\n",
    "    model.add(Dropout(0.4))\n",
    "    \n",
    "    # Flatten then pass to dense layer\n",
    "    model.add(Flatten())\n",
    "    model.add(Dropout(0.4))\n",
    "    model.add(Dense(1, activation='sigmoid'))\n",
    "    \n",
    "    return model"
   ],
   "metadata": {
    "collapsed": false,
    "ExecuteTime": {
     "end_time": "2024-02-04T21:20:18.324260Z",
     "start_time": "2024-02-04T21:20:18.317048Z"
    }
   },
   "id": "8de94f3204e4fdd2"
  },
  {
   "cell_type": "code",
   "execution_count": 49,
   "outputs": [],
   "source": [
    "discriminator = build_discriminator()"
   ],
   "metadata": {
    "collapsed": false,
    "ExecuteTime": {
     "end_time": "2024-02-04T21:20:19.585003Z",
     "start_time": "2024-02-04T21:20:19.484258Z"
    }
   },
   "id": "490ee89aa00c7244"
  },
  {
   "cell_type": "code",
   "execution_count": 50,
   "outputs": [
    {
     "name": "stdout",
     "output_type": "stream",
     "text": [
      "Model: \"sequential_10\"\n",
      "_________________________________________________________________\n",
      " Layer (type)                Output Shape              Param #   \n",
      "=================================================================\n",
      " conv2d_27 (Conv2D)          (None, 24, 24, 32)        832       \n",
      "                                                                 \n",
      " leaky_re_lu_32 (LeakyReLU)  (None, 24, 24, 32)        0         \n",
      "                                                                 \n",
      " dropout_4 (Dropout)         (None, 24, 24, 32)        0         \n",
      "                                                                 \n",
      " conv2d_28 (Conv2D)          (None, 20, 20, 64)        51264     \n",
      "                                                                 \n",
      " leaky_re_lu_33 (LeakyReLU)  (None, 20, 20, 64)        0         \n",
      "                                                                 \n",
      " dropout_5 (Dropout)         (None, 20, 20, 64)        0         \n",
      "                                                                 \n",
      " conv2d_29 (Conv2D)          (None, 16, 16, 128)       204928    \n",
      "                                                                 \n",
      " leaky_re_lu_34 (LeakyReLU)  (None, 16, 16, 128)       0         \n",
      "                                                                 \n",
      " dropout_6 (Dropout)         (None, 16, 16, 128)       0         \n",
      "                                                                 \n",
      " conv2d_30 (Conv2D)          (None, 12, 12, 256)       819456    \n",
      "                                                                 \n",
      " leaky_re_lu_35 (LeakyReLU)  (None, 12, 12, 256)       0         \n",
      "                                                                 \n",
      " dropout_7 (Dropout)         (None, 12, 12, 256)       0         \n",
      "                                                                 \n",
      " flatten (Flatten)           (None, 36864)             0         \n",
      "                                                                 \n",
      " dropout_8 (Dropout)         (None, 36864)             0         \n",
      "                                                                 \n",
      " dense_9 (Dense)             (None, 1)                 36865     \n",
      "                                                                 \n",
      "=================================================================\n",
      "Total params: 1,113,345\n",
      "Trainable params: 1,113,345\n",
      "Non-trainable params: 0\n",
      "_________________________________________________________________\n"
     ]
    }
   ],
   "source": [
    "discriminator.summary()"
   ],
   "metadata": {
    "collapsed": false,
    "ExecuteTime": {
     "end_time": "2024-02-04T21:20:20.549859Z",
     "start_time": "2024-02-04T21:20:20.515931Z"
    }
   },
   "id": "8143cd7df01f778f"
  },
  {
   "cell_type": "code",
   "execution_count": 61,
   "outputs": [
    {
     "name": "stdout",
     "output_type": "stream",
     "text": [
      "1/1 [==============================] - 0s 32ms/step\n"
     ]
    },
    {
     "data": {
      "text/plain": "array([[0.49220237],\n       [0.49234724],\n       [0.49226138],\n       [0.49223387]], dtype=float32)"
     },
     "execution_count": 61,
     "metadata": {},
     "output_type": "execute_result"
    }
   ],
   "source": [
    "# Testing the discriminator\n",
    "discriminator.predict(img) # Outputs an array of predictions from 0-1"
   ],
   "metadata": {
    "collapsed": false,
    "ExecuteTime": {
     "end_time": "2024-02-04T22:00:37.690053Z",
     "start_time": "2024-02-04T22:00:37.618501Z"
    }
   },
   "id": "a3193de4e7f4bd23"
  },
  {
   "cell_type": "markdown",
   "source": [
    "# 4. Construct Training Loop\n",
    "- 4.1 Setup losses and optimizers\n",
    "- 4.2 Build subclassed model\n",
    "- 4.3 Build callback\n",
    "- 4.4 Train\n",
    "- 4.5 Review performance"
   ],
   "metadata": {
    "collapsed": false
   },
   "id": "defec04facbbca02"
  },
  {
   "cell_type": "markdown",
   "source": [
    "Setup losses and optimizers"
   ],
   "metadata": {
    "collapsed": false
   },
   "id": "69b8b8fc36dc086a"
  },
  {
   "cell_type": "code",
   "execution_count": null,
   "outputs": [],
   "source": [],
   "metadata": {
    "collapsed": false
   },
   "id": "c360994725c92464"
  }
 ],
 "metadata": {
  "kernelspec": {
   "display_name": "Python 3",
   "language": "python",
   "name": "python3"
  },
  "language_info": {
   "codemirror_mode": {
    "name": "ipython",
    "version": 2
   },
   "file_extension": ".py",
   "mimetype": "text/x-python",
   "name": "python",
   "nbconvert_exporter": "python",
   "pygments_lexer": "ipython2",
   "version": "2.7.6"
  }
 },
 "nbformat": 4,
 "nbformat_minor": 5
}
